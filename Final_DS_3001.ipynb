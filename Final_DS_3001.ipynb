{
 "cells": [
  {
   "cell_type": "markdown",
   "metadata": {},
   "source": [
    "# Final Project DS 3001"
   ]
  },
  {
   "cell_type": "markdown",
   "metadata": {},
   "source": [
    "## 1. Idea Development"
   ]
  },
  {
   "cell_type": "markdown",
   "metadata": {},
   "source": [
    "#### Data Information\n",
    "\n",
    "The dataset comprises information from a survey conducted on students taking math and Portuguese language courses in a secondary school. It includes various socio-demographic attributes and academic performance indicators. There are 382 students that are observed in this dataset. Here are some key features:\n",
    "\n",
    "**Socio-Demographic Variables:**\n",
    "- School: Gabriel Pereira (GP) or Mousinho da Silveira (MS)\n",
    "- Sex: Male (M) or Female (F)\n",
    "- Age: Student's age (15 to 22)\n",
    "- Address: Urban (U) or Rural (R)\n",
    "- Family Size: Less or equal to 3 (LE3) or greater than 3 (GT3)\n",
    "- Parent's Cohabitation Status: Living together (T) or Apart (A)\n",
    "\n",
    "**Academic Performance Variables:**\n",
    "- Extra Educational Support (schoolsup): Yes or No\n",
    "- Family Educational Support (famsup): Yes or No\n",
    "- Extra Paid Classes (paid): Yes or No\n",
    "- Extracurricular Activities (activities): Yes or No\n",
    "- Attended Nursery School (nursery): Yes or No\n",
    "- Aspiration for Higher Education (higher): Yes or No\n",
    "- Internet Access at Home (internet): Yes or No\n"
   ]
  },
  {
   "cell_type": "markdown",
   "metadata": {},
   "source": [
    "#### Background Research\n",
    "\n"
   ]
  },
  {
   "cell_type": "markdown",
   "metadata": {},
   "source": [
    "There are many factors that can play a role on a student's academic performance.\n",
    "\n",
    "We will break these factors up into 5 main subgroups.\n",
    "\n",
    "1. Socioeconomic Factors:\n",
    "- Family income, parental education level, and access to educational resources at home can all play a role on a student's academic performance\n",
    "- If education is highly valued by parents, it is most likely to be valued by the student.\n",
    "- Additionally, financial stress can place burdens on students that may cause strain on acadmemic success. \n",
    "\n",
    "2. Demographic Factors\n",
    "- Gender, age, and ethnicity can also all have impacts on final grades. \n",
    "- Gender and race sterotypes may play a role in classroom settings and reflect on acadmic performance.\n",
    "\n",
    "3. Educational Environment:\n",
    "- The environment of the school, quality of teachers, class size, student-teacher ratio, and avaliablilty of extracurricular activities can all also affect grades.\n",
    "- This has to do with a student's attitude toward school and academics. \n",
    "\n",
    "4. Student characteristics:\n",
    "- Studying habits, attendance, and prior academic performances are all relevant to current grades.\n",
    "- These varaibles further define a student's attitude and effort to learning and school.\n",
    "\n",
    "5. Health and Well-being:\n",
    "- Physical and mental health as well as nutrition and sleep can all be vital in academic performance.\n",
    "- There are many studies linking sleep and nutrition to healtheir brain activity. \n",
    "- Stress can also be crippling for students. \n",
    "\n",
    "\n",
    "We evaluate the final grade while looking at the studens' freuqency going out with friends (variable:goout), workday alcohol consumption (variable: Dalc), and weekend alcohol consumption(variable: Walc).  In backround research, we concluded that these factors tend to have an effect on school on student grades.  Greater alcohol consumption and spending time with friends tends to result in lower academic scores.  \n",
    "\n",
    "Refrences below.\n"
   ]
  },
  {
   "cell_type": "markdown",
   "metadata": {},
   "source": [
    "#### Research Question: Using the student dataset, can we predict a student's final grade using kNN?"
   ]
  },
  {
   "cell_type": "code",
   "execution_count": 1,
   "metadata": {},
   "outputs": [],
   "source": [
    "### Import Libraries ### \n",
    "\n",
    "from sklearn.model_selection import train_test_split,GridSearchCV\n",
    "from sklearn.preprocessing import LabelEncoder, StandardScaler\n",
    "import pandas as pd\n",
    "import numpy as np\n",
    "import random\n",
    "from sklearn.neighbors import KNeighborsClassifier\n",
    "import seaborn as sns\n",
    "from matplotlib import pyplot as plt\n",
    "from sklearn.metrics import classification_report\n",
    "from sklearn import metrics\n",
    "from sklearn.metrics import confusion_matrix, ConfusionMatrixDisplay\n",
    "from matplotlib import pyplot as plt"
   ]
  },
  {
   "cell_type": "code",
   "execution_count": 3,
   "metadata": {},
   "outputs": [
    {
     "data": {
      "text/html": [
       "<div>\n",
       "<style scoped>\n",
       "    .dataframe tbody tr th:only-of-type {\n",
       "        vertical-align: middle;\n",
       "    }\n",
       "\n",
       "    .dataframe tbody tr th {\n",
       "        vertical-align: top;\n",
       "    }\n",
       "\n",
       "    .dataframe thead th {\n",
       "        text-align: right;\n",
       "    }\n",
       "</style>\n",
       "<table border=\"1\" class=\"dataframe\">\n",
       "  <thead>\n",
       "    <tr style=\"text-align: right;\">\n",
       "      <th></th>\n",
       "      <th>school</th>\n",
       "      <th>sex</th>\n",
       "      <th>age</th>\n",
       "      <th>address</th>\n",
       "      <th>famsize</th>\n",
       "      <th>Pstatus</th>\n",
       "      <th>Medu</th>\n",
       "      <th>Fedu</th>\n",
       "      <th>Mjob</th>\n",
       "      <th>Fjob</th>\n",
       "      <th>...</th>\n",
       "      <th>famrel</th>\n",
       "      <th>freetime</th>\n",
       "      <th>goout</th>\n",
       "      <th>Dalc</th>\n",
       "      <th>Walc</th>\n",
       "      <th>health</th>\n",
       "      <th>absences</th>\n",
       "      <th>G1</th>\n",
       "      <th>G2</th>\n",
       "      <th>G3</th>\n",
       "    </tr>\n",
       "  </thead>\n",
       "  <tbody>\n",
       "    <tr>\n",
       "      <th>0</th>\n",
       "      <td>GP</td>\n",
       "      <td>F</td>\n",
       "      <td>18</td>\n",
       "      <td>U</td>\n",
       "      <td>GT3</td>\n",
       "      <td>A</td>\n",
       "      <td>4</td>\n",
       "      <td>4</td>\n",
       "      <td>at_home</td>\n",
       "      <td>teacher</td>\n",
       "      <td>...</td>\n",
       "      <td>4</td>\n",
       "      <td>3</td>\n",
       "      <td>4</td>\n",
       "      <td>1</td>\n",
       "      <td>1</td>\n",
       "      <td>3</td>\n",
       "      <td>6</td>\n",
       "      <td>5</td>\n",
       "      <td>6</td>\n",
       "      <td>6</td>\n",
       "    </tr>\n",
       "    <tr>\n",
       "      <th>1</th>\n",
       "      <td>GP</td>\n",
       "      <td>F</td>\n",
       "      <td>17</td>\n",
       "      <td>U</td>\n",
       "      <td>GT3</td>\n",
       "      <td>T</td>\n",
       "      <td>1</td>\n",
       "      <td>1</td>\n",
       "      <td>at_home</td>\n",
       "      <td>other</td>\n",
       "      <td>...</td>\n",
       "      <td>5</td>\n",
       "      <td>3</td>\n",
       "      <td>3</td>\n",
       "      <td>1</td>\n",
       "      <td>1</td>\n",
       "      <td>3</td>\n",
       "      <td>4</td>\n",
       "      <td>5</td>\n",
       "      <td>5</td>\n",
       "      <td>6</td>\n",
       "    </tr>\n",
       "    <tr>\n",
       "      <th>2</th>\n",
       "      <td>GP</td>\n",
       "      <td>F</td>\n",
       "      <td>15</td>\n",
       "      <td>U</td>\n",
       "      <td>LE3</td>\n",
       "      <td>T</td>\n",
       "      <td>1</td>\n",
       "      <td>1</td>\n",
       "      <td>at_home</td>\n",
       "      <td>other</td>\n",
       "      <td>...</td>\n",
       "      <td>4</td>\n",
       "      <td>3</td>\n",
       "      <td>2</td>\n",
       "      <td>2</td>\n",
       "      <td>3</td>\n",
       "      <td>3</td>\n",
       "      <td>10</td>\n",
       "      <td>7</td>\n",
       "      <td>8</td>\n",
       "      <td>10</td>\n",
       "    </tr>\n",
       "    <tr>\n",
       "      <th>3</th>\n",
       "      <td>GP</td>\n",
       "      <td>F</td>\n",
       "      <td>15</td>\n",
       "      <td>U</td>\n",
       "      <td>GT3</td>\n",
       "      <td>T</td>\n",
       "      <td>4</td>\n",
       "      <td>2</td>\n",
       "      <td>health</td>\n",
       "      <td>services</td>\n",
       "      <td>...</td>\n",
       "      <td>3</td>\n",
       "      <td>2</td>\n",
       "      <td>2</td>\n",
       "      <td>1</td>\n",
       "      <td>1</td>\n",
       "      <td>5</td>\n",
       "      <td>2</td>\n",
       "      <td>15</td>\n",
       "      <td>14</td>\n",
       "      <td>15</td>\n",
       "    </tr>\n",
       "    <tr>\n",
       "      <th>4</th>\n",
       "      <td>GP</td>\n",
       "      <td>F</td>\n",
       "      <td>16</td>\n",
       "      <td>U</td>\n",
       "      <td>GT3</td>\n",
       "      <td>T</td>\n",
       "      <td>3</td>\n",
       "      <td>3</td>\n",
       "      <td>other</td>\n",
       "      <td>other</td>\n",
       "      <td>...</td>\n",
       "      <td>4</td>\n",
       "      <td>3</td>\n",
       "      <td>2</td>\n",
       "      <td>1</td>\n",
       "      <td>2</td>\n",
       "      <td>5</td>\n",
       "      <td>4</td>\n",
       "      <td>6</td>\n",
       "      <td>10</td>\n",
       "      <td>10</td>\n",
       "    </tr>\n",
       "  </tbody>\n",
       "</table>\n",
       "<p>5 rows × 33 columns</p>\n",
       "</div>"
      ],
      "text/plain": [
       "  school sex  age address famsize Pstatus  Medu  Fedu     Mjob      Fjob  ...  \\\n",
       "0     GP   F   18       U     GT3       A     4     4  at_home   teacher  ...   \n",
       "1     GP   F   17       U     GT3       T     1     1  at_home     other  ...   \n",
       "2     GP   F   15       U     LE3       T     1     1  at_home     other  ...   \n",
       "3     GP   F   15       U     GT3       T     4     2   health  services  ...   \n",
       "4     GP   F   16       U     GT3       T     3     3    other     other  ...   \n",
       "\n",
       "  famrel freetime  goout  Dalc  Walc health absences  G1  G2  G3  \n",
       "0      4        3      4     1     1      3        6   5   6   6  \n",
       "1      5        3      3     1     1      3        4   5   5   6  \n",
       "2      4        3      2     2     3      3       10   7   8  10  \n",
       "3      3        2      2     1     1      5        2  15  14  15  \n",
       "4      4        3      2     1     2      5        4   6  10  10  \n",
       "\n",
       "[5 rows x 33 columns]"
      ]
     },
     "execution_count": 3,
     "metadata": {},
     "output_type": "execute_result"
    }
   ],
   "source": [
    "### Load in Data ### \n",
    "import os\n",
    "\n",
    "student = pd.read_csv('student-mat.csv',  encoding=\"latin-1\")\n",
    "student.head()"
   ]
  },
  {
   "cell_type": "markdown",
   "metadata": {},
   "source": [
    "## 2. Data Prep and Problem Exploration"
   ]
  },
  {
   "cell_type": "markdown",
   "metadata": {},
   "source": [
    "### Summary Statistics"
   ]
  },
  {
   "cell_type": "code",
   "execution_count": 4,
   "metadata": {},
   "outputs": [
    {
     "name": "stdout",
     "output_type": "stream",
     "text": [
      "<class 'pandas.core.frame.DataFrame'>\n",
      "RangeIndex: 395 entries, 0 to 394\n",
      "Data columns (total 33 columns):\n",
      " #   Column      Non-Null Count  Dtype \n",
      "---  ------      --------------  ----- \n",
      " 0   school      395 non-null    object\n",
      " 1   sex         395 non-null    object\n",
      " 2   age         395 non-null    int64 \n",
      " 3   address     395 non-null    object\n",
      " 4   famsize     395 non-null    object\n",
      " 5   Pstatus     395 non-null    object\n",
      " 6   Medu        395 non-null    int64 \n",
      " 7   Fedu        395 non-null    int64 \n",
      " 8   Mjob        395 non-null    object\n",
      " 9   Fjob        395 non-null    object\n",
      " 10  reason      395 non-null    object\n",
      " 11  guardian    395 non-null    object\n",
      " 12  traveltime  395 non-null    int64 \n",
      " 13  studytime   395 non-null    int64 \n",
      " 14  failures    395 non-null    int64 \n",
      " 15  schoolsup   395 non-null    object\n",
      " 16  famsup      395 non-null    object\n",
      " 17  paid        395 non-null    object\n",
      " 18  activities  395 non-null    object\n",
      " 19  nursery     395 non-null    object\n",
      " 20  higher      395 non-null    object\n",
      " 21  internet    395 non-null    object\n",
      " 22  romantic    395 non-null    object\n",
      " 23  famrel      395 non-null    int64 \n",
      " 24  freetime    395 non-null    int64 \n",
      " 25  goout       395 non-null    int64 \n",
      " 26  Dalc        395 non-null    int64 \n",
      " 27  Walc        395 non-null    int64 \n",
      " 28  health      395 non-null    int64 \n",
      " 29  absences    395 non-null    int64 \n",
      " 30  G1          395 non-null    int64 \n",
      " 31  G2          395 non-null    int64 \n",
      " 32  G3          395 non-null    int64 \n",
      "dtypes: int64(16), object(17)\n",
      "memory usage: 102.0+ KB\n"
     ]
    }
   ],
   "source": [
    "## Give First Look at Dataset and Variable Types ### \n",
    "\n",
    "student.info()"
   ]
  },
  {
   "cell_type": "code",
   "execution_count": 5,
   "metadata": {},
   "outputs": [
    {
     "data": {
      "text/plain": [
       "(395, 33)"
      ]
     },
     "execution_count": 5,
     "metadata": {},
     "output_type": "execute_result"
    }
   ],
   "source": [
    "### Retrieve Dimensions of Dataset ###\n",
    "\n",
    "student.shape"
   ]
  },
  {
   "cell_type": "code",
   "execution_count": 6,
   "metadata": {},
   "outputs": [
    {
     "name": "stdout",
     "output_type": "stream",
     "text": [
      "<class 'pandas.core.frame.DataFrame'>\n",
      "RangeIndex: 395 entries, 0 to 394\n",
      "Data columns (total 27 columns):\n",
      " #   Column      Non-Null Count  Dtype \n",
      "---  ------      --------------  ----- \n",
      " 0   school      395 non-null    object\n",
      " 1   age         395 non-null    int64 \n",
      " 2   famsize     395 non-null    object\n",
      " 3   Medu        395 non-null    int64 \n",
      " 4   Fedu        395 non-null    int64 \n",
      " 5   Mjob        395 non-null    object\n",
      " 6   Fjob        395 non-null    object\n",
      " 7   guardian    395 non-null    object\n",
      " 8   studytime   395 non-null    int64 \n",
      " 9   failures    395 non-null    int64 \n",
      " 10  schoolsup   395 non-null    object\n",
      " 11  famsup      395 non-null    object\n",
      " 12  paid        395 non-null    object\n",
      " 13  activities  395 non-null    object\n",
      " 14  higher      395 non-null    object\n",
      " 15  internet    395 non-null    object\n",
      " 16  romantic    395 non-null    object\n",
      " 17  famrel      395 non-null    int64 \n",
      " 18  freetime    395 non-null    int64 \n",
      " 19  goout       395 non-null    int64 \n",
      " 20  Dalc        395 non-null    int64 \n",
      " 21  Walc        395 non-null    int64 \n",
      " 22  health      395 non-null    int64 \n",
      " 23  absences    395 non-null    int64 \n",
      " 24  G1          395 non-null    int64 \n",
      " 25  G2          395 non-null    int64 \n",
      " 26  G3          395 non-null    int64 \n",
      "dtypes: int64(15), object(12)\n",
      "memory usage: 83.4+ KB\n"
     ]
    }
   ],
   "source": [
    "### Remove Unecessary and Redundant Columns ###\n",
    "\n",
    "to_drop = [1,3,5,10,12,19]\n",
    "student1 = student.drop(student.columns[to_drop], axis=1)\n",
    "student1.info()"
   ]
  },
  {
   "cell_type": "code",
   "execution_count": 7,
   "metadata": {},
   "outputs": [],
   "source": [
    "## Replace NULL Values ###\n",
    "\n",
    "student1.replace('NULL', np.nan, inplace=True)"
   ]
  },
  {
   "cell_type": "markdown",
   "metadata": {},
   "source": [
    "### Exploratory Data Analysis "
   ]
  },
  {
   "cell_type": "markdown",
   "metadata": {},
   "source": [
    "#### Graph 1: Correlation Heatmap \n",
    "\n",
    "The first graph we constructed to explore the data was a correlation heatmap. This correlation graph allows us to see all of the levels of correlation between every one of our used variables. \n",
    "\n",
    "This type of graph uses colors to represent the strength and riection of correlation. "
   ]
  },
  {
   "cell_type": "code",
   "execution_count": 21,
   "metadata": {},
   "outputs": [
    {
     "data": {
      "image/png": "[encoded data removed]",
      "text/plain": [
       "<Figure size 864x576 with 2 Axes>"
      ]
     },
     "metadata": {
      "needs_background": "light"
     },
     "output_type": "display_data"
    }
   ],
   "source": [
    "correlation_matrix = student1.corr()\n",
    "\n",
    "# Create a heatmap\n",
    "plt.figure(figsize=(12, 8))\n",
    "sns.heatmap(correlation_matrix, annot=True, cmap='coolwarm', fmt=\".2f\")\n",
    "\n",
    "plt.title('Correlation Heatmap of Variables with Grades (G1, G2, G3)')\n",
    "plt.show()"
   ]
  },
  {
   "cell_type": "markdown",
   "metadata": {},
   "source": [
    "Based on the results of our correlation heatmap above, we can observe all correlations of varaibles. The varaibles we are most interested in their correlation are the grades, G1, G2, G3. Looking exclusively at those varaibles, we saw the largest marginal correlatins with the other grades, and the number of failures, age, medu (mothers education, and fedu (father's education). "
   ]
  },
  {
   "cell_type": "markdown",
   "metadata": {},
   "source": [
    "#### Graph 2 : Mean G3 scores by correlated variables\n",
    "\n",
    "The second graph we constructed to observe our data were boxplots of varaibles correlated to grades.\n",
    "\n",
    "The varaibles we chose to display were the number of past class failures, the age of the student, the level of education of the student's mother, as well as alcohol consumption of the student.\n",
    "\n",
    "We chose these varaibles because they displayed interesting correlations in the heatmap above. Additionally, we read some studies about alcohol consumptions effects on school performance. These articles are linked in the references. "
   ]
  },
  {
   "cell_type": "code",
   "execution_count": 22,
   "metadata": {},
   "outputs": [
    {
     "data": {
      "image/png": "[encoded data removed]",
      "text/plain": [
       "<Figure size 864x720 with 4 Axes>"
      ]
     },
     "metadata": {
      "needs_background": "light"
     },
     "output_type": "display_data"
    }
   ],
   "source": [
    "fig, axes = plt.subplots(nrows=2, ncols=2, figsize=(12, 10))\n",
    "\n",
    "# Variables to plot\n",
    "variables = ['failures', 'age', 'Medu', 'Walc']\n",
    "\n",
    "# Iterate through the grid and plot each variable\n",
    "for i, variable in enumerate(variables):\n",
    "    row = i // 2\n",
    "    col = i % 2\n",
    "    sns.barplot(x=variable, y='G3', data=student1, ci='sd', ax=axes[row, col])\n",
    "    axes[row, col].set_title(f'Mean G3 Scores by {variable}')\n",
    "\n",
    "# Adjust layout\n",
    "plt.tight_layout()\n",
    "plt.show()"
   ]
  },
  {
   "cell_type": "markdown",
   "metadata": {},
   "source": [
    "Within the bar plots above, we are able to see the differences in average final grades with each level of the chosen variables. Some of these varaibles show a decent amount of variation between levels. \n",
    "\n",
    "The first bar plot shows the number of past failed classes. It is clear that students with more past failures tend to have lower final grades. This makes sense intuitively. \n",
    "\n",
    "The second shows age. Final grade score tends to decrease as age increases, with the exception of 20 year olds. This may be because people who are older may have been held back or have a hard time passing school.\n",
    "\n",
    "The third graph displays mother's education level. Student's whose mothers have no education have the highest final grades. In general, this value seems unlikely as I cannot imagine many mothers not even going to the 4th grade, which is displayed by a value of 1. Perhaps there was missing data that was assigned to 0. Besides this value, the final grade scores seem to increase as mothers education increases.\n",
    "\n",
    "The last graph displays weekend alcohol consumption. There does not seem to be an obvious trend within these values. "
   ]
  },
  {
   "cell_type": "markdown",
   "metadata": {},
   "source": [
    "## 3. Solution Development"
   ]
  },
  {
   "cell_type": "markdown",
   "metadata": {},
   "source": [
    "### Discussion of Method\n",
    "\n",
    "We are using a KNN model because they can be used to identify patterns and trends in data and assess how specific variables may affect the final grade score. KNN models are also sensitive to noisy data with outliers, which helps us because we did not collect this data ourselves and cannot speak for its accuracy. "
   ]
  },
  {
   "cell_type": "markdown",
   "metadata": {},
   "source": [
    "### kNN Model"
   ]
  },
  {
   "cell_type": "code",
   "execution_count": 89,
   "metadata": {},
   "outputs": [
    {
     "name": "stdout",
     "output_type": "stream",
     "text": [
      "Mean Squared Error: 22.17133333333334\n",
      "Accuracy: -0.08476216363142175\n"
     ]
    }
   ],
   "source": [
    "from sklearn.metrics import mean_squared_error\n",
    "from sklearn.neighbors import KNeighborsRegressor\n",
    "student1[[\"goout\", \"Dalc\", \"Walc\"]] = StandardScaler().fit_transform(student1[[\"goout\", \"Dalc\", \"Walc\"]])\n",
    "X = student1[[\"goout\", \"Dalc\", \"Walc\"]]\n",
    "y = student1['G3']\n",
    "X_train, X_test, y_train, y_test = train_test_split(X, y, train_size=0.7, random_state=42)\n",
    "X_tune, X_test, y_tune, y_test = train_test_split(X_test,y_test,  train_size = 0.50, stratify = y_test,random_state=49)\n",
    "\n",
    "# Initialize the k-NN regressor\n",
    "neigh = KNeighborsRegressor(n_neighbors=5)  # You can adjust the number of neighbors (k) as needed\n",
    "\n",
    "neigh.fit(X_train, y_train)\n",
    "\n",
    "# Make predictions on the test set\n",
    "y_pred = neigh.predict(X_test)\n",
    "accuracy = neigh.score(X_test, y_test)\n",
    "mse = mean_squared_error(y_test, y_pred)\n",
    "print(f'Mean Squared Error: {mse}')\n",
    "print(f'Accuracy: {accuracy}')"
   ]
  },
  {
   "cell_type": "markdown",
   "metadata": {},
   "source": [
    "**Mean Squared Error Interpretation** \n",
    "- In this specific context, the MSE of approximately 22.17 indicates a notable average squared difference between the model's predictions and the actual grades. This suggests that the model might not effectively capture the underlying patterns in the data, leading to predictions that deviate significantly from the true values in the dataset.\n",
    "\n",
    "**Accuracy Interpretation**\n",
    "- The negative accuracy of approximately -0.08 implies that the model's performance is inferior to a basic horizontal line representing the mean of the target variable. This score indicates that the model has limited explanatory power for the chosen features, illustrating an inability to effectively capture the complexity of the relationship between the three selected predictors and the final grades. The negative accuracy highlights limitations in the model's ability to provide meaningful insights into the factors influencing student performance.\n"
   ]
  },
  {
   "cell_type": "markdown",
   "metadata": {},
   "source": [
    "#### Get the best K value"
   ]
  },
  {
   "cell_type": "code",
   "execution_count": 90,
   "metadata": {},
   "outputs": [
    {
     "name": "stdout",
     "output_type": "stream",
     "text": [
      "calculating...  1 k\n",
      "calculating...  3 k\n",
      "calculating...  5 k\n",
      "calculating...  7 k\n",
      "calculating...  9 k\n",
      "calculating...  11 k\n",
      "calculating...  13 k\n",
      "calculating...  15 k\n",
      "calculating...  17 k\n",
      "calculating...  19 k\n",
      "calculating...  21 k\n"
     ]
    },
    {
     "data": {
      "text/html": [
       "<div>\n",
       "<style scoped>\n",
       "    .dataframe tbody tr th:only-of-type {\n",
       "        vertical-align: middle;\n",
       "    }\n",
       "\n",
       "    .dataframe tbody tr th {\n",
       "        vertical-align: top;\n",
       "    }\n",
       "\n",
       "    .dataframe thead th {\n",
       "        text-align: right;\n",
       "    }\n",
       "</style>\n",
       "<table border=\"1\" class=\"dataframe\">\n",
       "  <thead>\n",
       "    <tr style=\"text-align: right;\">\n",
       "      <th></th>\n",
       "      <th>k</th>\n",
       "      <th>accu</th>\n",
       "    </tr>\n",
       "  </thead>\n",
       "  <tbody>\n",
       "    <tr>\n",
       "      <th>10</th>\n",
       "      <td>21</td>\n",
       "      <td>0.051007</td>\n",
       "    </tr>\n",
       "    <tr>\n",
       "      <th>9</th>\n",
       "      <td>19</td>\n",
       "      <td>0.045482</td>\n",
       "    </tr>\n",
       "    <tr>\n",
       "      <th>7</th>\n",
       "      <td>15</td>\n",
       "      <td>0.013250</td>\n",
       "    </tr>\n",
       "    <tr>\n",
       "      <th>8</th>\n",
       "      <td>17</td>\n",
       "      <td>0.009893</td>\n",
       "    </tr>\n",
       "    <tr>\n",
       "      <th>3</th>\n",
       "      <td>7</td>\n",
       "      <td>0.008459</td>\n",
       "    </tr>\n",
       "    <tr>\n",
       "      <th>6</th>\n",
       "      <td>13</td>\n",
       "      <td>0.008383</td>\n",
       "    </tr>\n",
       "    <tr>\n",
       "      <th>0</th>\n",
       "      <td>1</td>\n",
       "      <td>0.002718</td>\n",
       "    </tr>\n",
       "    <tr>\n",
       "      <th>5</th>\n",
       "      <td>11</td>\n",
       "      <td>-0.020054</td>\n",
       "    </tr>\n",
       "    <tr>\n",
       "      <th>4</th>\n",
       "      <td>9</td>\n",
       "      <td>-0.034379</td>\n",
       "    </tr>\n",
       "    <tr>\n",
       "      <th>2</th>\n",
       "      <td>5</td>\n",
       "      <td>-0.084762</td>\n",
       "    </tr>\n",
       "    <tr>\n",
       "      <th>1</th>\n",
       "      <td>3</td>\n",
       "      <td>-0.203950</td>\n",
       "    </tr>\n",
       "  </tbody>\n",
       "</table>\n",
       "</div>"
      ],
      "text/plain": [
       "     k      accu\n",
       "10  21  0.051007\n",
       "9   19  0.045482\n",
       "7   15  0.013250\n",
       "8   17  0.009893\n",
       "3    7  0.008459\n",
       "6   13  0.008383\n",
       "0    1  0.002718\n",
       "5   11 -0.020054\n",
       "4    9 -0.034379\n",
       "2    5 -0.084762\n",
       "1    3 -0.203950"
      ]
     },
     "execution_count": 90,
     "metadata": {},
     "output_type": "execute_result"
    }
   ],
   "source": [
    "def chooseK(k, X_train, y_train, X_test, y_test):\n",
    "    random.seed(1)\n",
    "    print(\"calculating... \", k, \"k\")    # I'll include this so you can see the progress of the function as it runs\n",
    "    class_knn = KNeighborsRegressor(n_neighbors=k)\n",
    "    class_knn.fit(X_train, y_train)\n",
    "    \n",
    "    # calculate accuracy\n",
    "    accu = class_knn.score(X_test, y_test)\n",
    "    return accu\n",
    "\n",
    "test = pd.DataFrame({'k':list(range(1,22,2)), \n",
    "                     'accu':[chooseK(x, X_train, y_train, X_test, y_test) for x in list(range(1, 22, 2))]})\n",
    "test = test.sort_values(by=['accu'], ascending=False)\n",
    "test\n"
   ]
  },
  {
   "cell_type": "markdown",
   "metadata": {},
   "source": [
    "According to the above output, the value of k that provides the highest accuracy in the context of our problem is 21. Because 21 has the highest accuracy, it is suggesting that considering 21 nearest neighbors provides the best predictive performance on the given dataset. The accuracy. 0.051, which suggests that the model can explain about 5.1% of the variance in the final grades (G3) of students based on the features provided. In general larger k values lead to more stable models with higher bias but lower varaince. "
   ]
  },
  {
   "cell_type": "markdown",
   "metadata": {},
   "source": [
    "## 4. Solution Deployment"
   ]
  },
  {
   "cell_type": "markdown",
   "metadata": {},
   "source": [
    "### Implementing Best k Value"
   ]
  },
  {
   "cell_type": "code",
   "execution_count": 91,
   "metadata": {},
   "outputs": [],
   "source": [
    "final_model = KNeighborsRegressor(n_neighbors=21)\n",
    "final_model.fit(X_train, y_train)\n",
    "\n",
    "# Make predictions on the test set\n",
    "y_pred = final_model.predict(X_test)\n"
   ]
  },
  {
   "cell_type": "markdown",
   "metadata": {},
   "source": [
    "### Further Evaluation of kNN Model"
   ]
  },
  {
   "cell_type": "code",
   "execution_count": 92,
   "metadata": {},
   "outputs": [
    {
     "name": "stdout",
     "output_type": "stream",
     "text": [
      "Score: 0.051006540153435975\n",
      "Mean Squared Error: 19.396371882086164\n",
      "Root Mean Squared Error: 4.404131228981053\n",
      "Mean Absolute Error: 3.423809523809524\n"
     ]
    }
   ],
   "source": [
    "score = final_model.score(X_test, y_test)\n",
    "print(f'Score: {score}')\n",
    "mse = mean_squared_error(y_test, y_pred)\n",
    "print(f'Mean Squared Error: {mse}')\n",
    "rmse = mean_squared_error(y_test, y_pred, squared=False)\n",
    "print(f'Root Mean Squared Error: {rmse}')\n",
    "from sklearn.metrics import mean_absolute_error\n",
    "mae = mean_absolute_error(y_test, y_pred)\n",
    "print(f\"Mean Absolute Error: {mae}\")"
   ]
  },
  {
   "cell_type": "markdown",
   "metadata": {},
   "source": [
    "**Score Interpretation**"
   ]
  },
  {
   "cell_type": "markdown",
   "metadata": {},
   "source": [
    "The score our model got, 0.051, is a relatively low R squared value.  This suggests that our model is not the most predicitve when looking at what has an effect on students' grades. "
   ]
  },
  {
   "cell_type": "markdown",
   "metadata": {},
   "source": [
    "**Mean Squared Error Interpretation**"
   ]
  },
  {
   "cell_type": "markdown",
   "metadata": {},
   "source": [
    "The mean squared error is the difference between the predicted and actual values.  Our mean squared error of 19.396 is a relatively high number, again, suggesting that our model might not be the most predictive.  "
   ]
  },
  {
   "cell_type": "markdown",
   "metadata": {},
   "source": [
    "**Root Mean Squared Error Interpretation**"
   ]
  },
  {
   "cell_type": "markdown",
   "metadata": {},
   "source": [
    "Our root mean sqaured error of 4.04 is relatively large, suggesting not the most precise model.  We want this value minimized."
   ]
  },
  {
   "cell_type": "markdown",
   "metadata": {},
   "source": [
    "**Mean Absolute Error Interpretation**"
   ]
  },
  {
   "cell_type": "markdown",
   "metadata": {},
   "source": [
    "Finally, our mean absolute error of 3.424 also suggests room for improvement in the model chosen to predict student performace.  "
   ]
  },
  {
   "cell_type": "markdown",
   "metadata": {},
   "source": [
    "### Conclusion"
   ]
  },
  {
   "cell_type": "markdown",
   "metadata": {},
   "source": [
    "In conclusion, our model and factors did not do the more accurate job at predicting student performance.  There are clearly many other factors that could go in to someone's school performace.  If we were to use this same data again and run the same model, we could look into highlighting different variables in order to get more accurate results.  "
   ]
  },
  {
   "cell_type": "markdown",
   "metadata": {},
   "source": [
    "### Future Analysis"
   ]
  },
  {
   "cell_type": "markdown",
   "metadata": {},
   "source": [
    "There are other models besides the KNN model that may be helpful to look at to strengthen a model to determine student's academic performance based on our variables.\n",
    "\n",
    "#### Decision Trees and Random Forests:\n",
    "These two models could reveal non-linear relationships between our variables and the student's final grades. We also could observe the feature importances.\n",
    "\n",
    "#### Cluster Analysis:\n",
    "Cluster analysis would help us split students into groups based on similar variables. Perhaps there would be clear clusters of types of students that link to grades they typically get. \n",
    "\n",
    "#### Regression:\n",
    "We could use a regression model to look at the linear relationships between variables and the final grades. \n",
    "\n",
    "Overall, we see that there are many different paths to take when trying to determine a model to predict student academic performance. \n"
   ]
  },
  {
   "cell_type": "markdown",
   "metadata": {},
   "source": [
    "### References\n",
    "\n"
   ]
  },
  {
   "cell_type": "markdown",
   "metadata": {},
   "source": [
    "Background Research:\n",
    "\n",
    "El Ansari, Walid, et al. “Is Alcohol Consumption Associated with Poor Academic Achievement in University Students?” International Journal of Preventive Medicine, U.S. National Library of Medicine, Oct. 2013, www.ncbi.nlm.nih.gov/pmc/articles/PMC3843305/. \n",
    "\n",
    "Athman, Julie, and Martha C. Monroe. \"The effects of environment-based education on students’ achievement motivation.\" Journal of interpretation research 9.1 (2004): 9-25.\n",
    "https://journals.sagepub.com/doi/abs/10.1177/109258720400900102?casa_token=-vCkmjKUDeQAAAAA:lTA9e1yQCHxRdwbD7ccN8hxj7GOztbHjWkiNdtZSg2bTG6xODr0SowyH0VlX-VubBsZF9fZrMJDh\n",
    "\n",
    "Brännlund, Annica, Mattias Strandh, and Karina Nilsson. \"Mental-health and educational achievement: the link between poor mental-health and upper secondary school completion and grades.\" Journal of Mental Health 26.4 (2017): 318-325.\n",
    "https://www.tandfonline.com/doi/abs/10.1080/09638237.2017.1294739?casa_token=eVzVv5ZYEeMAAAAA:2kS_8wtCeq_yfoVdmLsEgSH5_rQznXWYMm1OIEUzfTT6C34iUflSaJvtXr6NwwD76ov3XmgbJNtu\n",
    "\n",
    "Capraro, Mary Margaret, Robert M. Capraro, and Bettie Barrett Wiggins. \"An Investigation of the Effects of Gender, Socioeconomic Status, Race and Grades on Standardized Test Scores.\" (2000). \n",
    "https://eric.ed.gov/?id=ED444867\n",
    "\n",
    "Carvalho, Renato G., and Rosa F. Novo. \"Family socioeconomic status and student adaptation to school life: Looking beyond grades.\" (2012).\n",
    "https://repositorio.ual.es/bitstream/handle/10835/1889/Art_28_751_eng.pdf?sequenc\n",
    "\n",
    "Makongho, Anne-Marie. Alcohol Use and College Student’s Performance 1 - Minds.Wisconsin.Edu, University of Wisconsin, 30 Mar. 2018, minds.wisconsin.edu/bitstream/handle/1793/78353/MakonghoAnne-Marie.pdf. \n",
    "\n",
    "Tate, Emily. “Study Confirms Alcohol and Marijuana Linked with Decline in Student Grades.” Higher Education News, Events and Jobs, Inside Higher Ed, 8 Mar. 2017, www.insidehighered.com/news/2017/03/09/study-confirms-alcohol-and-marijuana-linked-decline-student-grades#:~:text=The%20researchers%20found%20that%20although,an%20average%20GPA%20of%203.03. \n",
    "\n",
    "Data: https://data.world/data-society/student-alcohol-consumption/workspace/project-summary?agentid=data-society&datasetid=student-alcohol-consumption\n",
    "(contains description of all variables meanings)"
   ]
  }
 ],
 "metadata": {
  "kernelspec": {
   "display_name": "Python 3",
   "language": "python",
   "name": "python3"
  },
  "language_info": {
   "codemirror_mode": {
    "name": "ipython",
    "version": 3
   },
   "file_extension": ".py",
   "mimetype": "text/x-python",
   "name": "python",
   "nbconvert_exporter": "python",
   "pygments_lexer": "ipython3",
   "version": "3.8.18"
  },
  "vscode": {
   "interpreter": {
    "hash": "31f2aee4e71d21fbe5cf8b01ff0e069b9275f58929596ceb00d14d90e3e16cd6"
   }
  }
 },
 "nbformat": 4,
 "nbformat_minor": 2
}
